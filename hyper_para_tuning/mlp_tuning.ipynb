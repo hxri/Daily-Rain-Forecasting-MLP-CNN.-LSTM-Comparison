{
 "cells": [
  {
   "cell_type": "markdown",
   "id": "409d62ca",
   "metadata": {},
   "source": [
    "## Hyperparameter Tuning in MLP Model"
   ]
  },
  {
   "cell_type": "markdown",
   "id": "53ea94f2",
   "metadata": {},
   "source": [
    "In the below CNN model, The input layer, **number of filters** and the **activation function** for the model is determined using Keras tuner, with the goal of minimum MSE loss."
   ]
  },
  {
   "cell_type": "code",
   "execution_count": 2,
   "id": "e58c2c18",
   "metadata": {},
   "outputs": [],
   "source": [
    "from numpy import array\n",
    "import keras\n",
    "from keras.models import Sequential\n",
    "from keras.layers import LSTM\n",
    "from keras.layers import Dense\n",
    "from keras.layers import Flatten\n",
    "from keras.layers import Dropout\n",
    "from keras.layers import TimeDistributed\n",
    "from keras.layers.convolutional import Conv1D\n",
    "from keras.layers.convolutional import MaxPooling1D\n",
    "import pandas as pd\n",
    "from kerastuner.tuners import RandomSearch\n",
    "\n",
    "from math import log\n",
    "from math import exp\n",
    "from scipy.stats import boxcox"
   ]
  },
  {
   "cell_type": "code",
   "execution_count": 3,
   "id": "41f51aa8",
   "metadata": {},
   "outputs": [],
   "source": [
    "# split a univariate sequence into samples\n",
    "def split_sequence(sequence, n_steps_in, n_steps_out):\n",
    "\tX, y = list(), list()\n",
    "\tfor i in range(len(sequence)):\n",
    "\t\t# find the end of this pattern\n",
    "\t\tend_ix = i + n_steps_in\n",
    "\t\tout_end_ix = end_ix + n_steps_out\n",
    "\t\t# check if we are beyond the sequence\n",
    "\t\tif out_end_ix > len(sequence):\n",
    "\t\t\tbreak\n",
    "\t\t# gather input and output parts of the pattern\n",
    "\t\tseq_x, seq_y = sequence[i:end_ix], sequence[end_ix:out_end_ix]\n",
    "\t\tX.append(seq_x)\n",
    "\t\ty.append(seq_y)\n",
    "\treturn array(X), array(y)"
   ]
  },
  {
   "cell_type": "code",
   "execution_count": 4,
   "id": "2b67e112",
   "metadata": {},
   "outputs": [],
   "source": [
    "data = pd.read_csv(\"Timeseries_real_data_interview.csv\")\n",
    "t = data.head(16000)\n",
    "v = data.tail(4000)\n",
    "# define input sequence\n",
    "train_seq = t['Value'].values\n",
    "val_seq = v['Value'].values\n",
    "\n",
    "tr, tr_lamb = boxcox(train_seq)\n",
    "vl, vl_lamb = boxcox(val_seq)"
   ]
  },
  {
   "cell_type": "code",
   "execution_count": 10,
   "id": "ecdc2469",
   "metadata": {},
   "outputs": [],
   "source": [
    "# choose a number of time steps\n",
    "n_steps_in, n_steps_out = 30, 30\n",
    "# split into samples\n",
    "X_train, y_train = split_sequence(tr, n_steps_in, n_steps_out)\n",
    "X_val, y_val = split_sequence(vl, n_steps_in, n_steps_out)\n",
    "# reshape from [samples, timesteps] into [samples, timesteps, features]\n",
    "n_features = 1"
   ]
  },
  {
   "cell_type": "markdown",
   "id": "9e0cc363",
   "metadata": {},
   "source": [
    "### Hyperparameter model"
   ]
  },
  {
   "cell_type": "code",
   "execution_count": 16,
   "id": "f513d81e",
   "metadata": {},
   "outputs": [],
   "source": [
    "def build_model(hp):\n",
    "    \n",
    "    nodes = hp.Int('nodes', min_value=1, max_value=150, step=10)\n",
    "    act_func = hp.Choice('Activation Func', ['relu', 'elu', 'sigmoid', 'tanh'])\n",
    "    \n",
    "    model = Sequential()\n",
    "    model.add(Dense(140, activation=act_func, input_dim=n_steps_in))\n",
    "    model.add(Dropout(0.2))\n",
    "    model.add(Dense(n_steps_out))\n",
    "\n",
    "    adam = keras.optimizers.Adam(lr=0.001)\n",
    "    model.compile(optimizer=adam, loss='mse', metrics=['mae', keras.metrics.RootMeanSquaredError()])\n",
    "    return model"
   ]
  },
  {
   "cell_type": "code",
   "execution_count": 17,
   "id": "3465aa5b",
   "metadata": {},
   "outputs": [],
   "source": [
    "tuner = RandomSearch(\n",
    "    build_model,\n",
    "    objective='loss',\n",
    "    seed=1,\n",
    "    max_trials=16,\n",
    "    executions_per_trial=2,\n",
    "    directory='dir',\n",
    "    project_name='mlp_set1')"
   ]
  },
  {
   "cell_type": "code",
   "execution_count": 18,
   "id": "aa387c55",
   "metadata": {},
   "outputs": [
    {
     "name": "stdout",
     "output_type": "stream",
     "text": [
      "Search space summary\n",
      "Default search space size: 1\n",
      "Activation Func (Choice)\n",
      "{'default': 'relu', 'conditions': [], 'values': ['relu', 'elu', 'sigmoid', 'tanh'], 'ordered': False}\n"
     ]
    }
   ],
   "source": [
    "tuner.search_space_summary()"
   ]
  },
  {
   "cell_type": "code",
   "execution_count": 19,
   "id": "e8dc556b",
   "metadata": {},
   "outputs": [
    {
     "name": "stdout",
     "output_type": "stream",
     "text": [
      "Trial 4 Complete [00h 01m 22s]\n",
      "loss: 10.414721488952637\n",
      "\n",
      "Best loss So Far: 8.899535179138184\n",
      "Total elapsed time: 00h 05m 37s\n",
      "INFO:tensorflow:Oracle triggered exit\n"
     ]
    }
   ],
   "source": [
    "tuner.search(X_train, y_train, epochs=20, verbose=1, validation_data=(X_val, y_val), batch_size=64)"
   ]
  },
  {
   "cell_type": "markdown",
   "id": "721ccc75",
   "metadata": {},
   "source": [
    "<hr>"
   ]
  },
  {
   "cell_type": "markdown",
   "id": "f37af6fa",
   "metadata": {},
   "source": [
    "# Results\n",
    "\n",
    "The tuning was performed in 2 seperate sets. The first set focused on tuning the number of filters only, followed by the tuning of activation function."
   ]
  },
  {
   "cell_type": "markdown",
   "id": "afbba433",
   "metadata": {},
   "source": [
    "<================ *Results of tuning the number of filters.* =================>\n",
    "\n",
    "*Search space* : (min_value=50, max_value=150, step=1)\n",
    "\n",
    "Choice: From the below results, the value of _**126**_ has been chosen for the number of filters in the input layer, since it has loss of 8.208714008331299"
   ]
  },
  {
   "cell_type": "code",
   "execution_count": 15,
   "id": "7782cd08",
   "metadata": {},
   "outputs": [
    {
     "name": "stdout",
     "output_type": "stream",
     "text": [
      "Results summary\n",
      "Results in dir\\mlp_set0\n",
      "Showing 10 best trials\n",
      "Objective(name='loss', direction='min')\n",
      "Trial summary\n",
      "Hyperparameters:\n",
      "nodes: 141\n",
      "Score: 9.689944744110107\n",
      "Trial summary\n",
      "Hyperparameters:\n",
      "nodes: 121\n",
      "Score: 10.071916103363037\n",
      "Trial summary\n",
      "Hyperparameters:\n",
      "nodes: 91\n",
      "Score: 11.684062480926514\n",
      "Trial summary\n",
      "Hyperparameters:\n",
      "nodes: 71\n",
      "Score: 12.655460834503174\n",
      "Trial summary\n",
      "Hyperparameters:\n",
      "nodes: 51\n",
      "Score: 14.436402797698975\n",
      "Trial summary\n",
      "Hyperparameters:\n",
      "nodes: 41\n",
      "Score: 17.140339851379395\n",
      "Trial summary\n",
      "Hyperparameters:\n",
      "nodes: 31\n",
      "Score: 18.94130516052246\n",
      "Trial summary\n",
      "Hyperparameters:\n",
      "nodes: 21\n",
      "Score: 22.677650451660156\n"
     ]
    }
   ],
   "source": [
    "tuner.results_summary()"
   ]
  },
  {
   "cell_type": "markdown",
   "id": "d3fcc236",
   "metadata": {},
   "source": [
    "<hr>"
   ]
  },
  {
   "cell_type": "markdown",
   "id": "795975fd",
   "metadata": {},
   "source": [
    "<================ *Results of tuning the activation function.* =================>\n",
    "\n",
    "*Search space* : ['relu', 'elu', 'sigmoid', 'tanh']\n",
    "\n",
    "Choice: From the below results, the activation function -**tanh**_ has been chosen for the number of filters in the input layer, since it has loss of 6.956228494644165"
   ]
  },
  {
   "cell_type": "code",
   "execution_count": 20,
   "id": "e6d409e1",
   "metadata": {},
   "outputs": [
    {
     "name": "stdout",
     "output_type": "stream",
     "text": [
      "Results summary\n",
      "Results in dir\\mlp_set1\n",
      "Showing 10 best trials\n",
      "Objective(name='loss', direction='min')\n",
      "Trial summary\n",
      "Hyperparameters:\n",
      "Activation Func: elu\n",
      "Score: 8.899535179138184\n",
      "Trial summary\n",
      "Hyperparameters:\n",
      "Activation Func: relu\n",
      "Score: 9.79287576675415\n",
      "Trial summary\n",
      "Hyperparameters:\n",
      "Activation Func: tanh\n",
      "Score: 10.414721488952637\n",
      "Trial summary\n",
      "Hyperparameters:\n",
      "Activation Func: sigmoid\n",
      "Score: 10.952197551727295\n"
     ]
    }
   ],
   "source": [
    "tuner.results_summary()"
   ]
  },
  {
   "cell_type": "code",
   "execution_count": null,
   "id": "2d90ce8f",
   "metadata": {},
   "outputs": [],
   "source": []
  }
 ],
 "metadata": {
  "kernelspec": {
   "display_name": "Python 3",
   "language": "python",
   "name": "python3"
  },
  "language_info": {
   "codemirror_mode": {
    "name": "ipython",
    "version": 3
   },
   "file_extension": ".py",
   "mimetype": "text/x-python",
   "name": "python",
   "nbconvert_exporter": "python",
   "pygments_lexer": "ipython3",
   "version": "3.7.10"
  }
 },
 "nbformat": 4,
 "nbformat_minor": 5
}
