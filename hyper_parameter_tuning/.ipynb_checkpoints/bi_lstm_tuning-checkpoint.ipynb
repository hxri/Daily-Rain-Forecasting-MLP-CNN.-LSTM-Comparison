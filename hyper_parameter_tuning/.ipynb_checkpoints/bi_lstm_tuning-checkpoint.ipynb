{
 "cells": [
  {
   "cell_type": "markdown",
   "id": "analyzed-prison",
   "metadata": {},
   "source": [
    "## Hyperparameter Tuning in Bidirectional LSTM Model"
   ]
  },
  {
   "cell_type": "markdown",
   "id": "hispanic-blanket",
   "metadata": {},
   "source": [
    "In the below LSTM model, The input layer, **number of filters** and the **activation function** for the model is determined using Keras tuner, with the goal of minimum MSE loss."
   ]
  },
  {
   "cell_type": "code",
   "execution_count": 1,
   "id": "australian-affiliate",
   "metadata": {},
   "outputs": [],
   "source": [
    "from numpy import array\n",
    "import keras\n",
    "from keras.models import Sequential\n",
    "from keras.layers import LSTM\n",
    "from keras.layers import Dense\n",
    "from keras.layers import Flatten\n",
    "from keras.layers import Dropout\n",
    "from keras.layers import TimeDistributed\n",
    "from keras.layers import Bidirectional\n",
    "from keras.layers.convolutional import Conv1D\n",
    "from keras.layers.convolutional import MaxPooling1D\n",
    "import pandas as pd\n",
    "from kerastuner.tuners import RandomSearch\n",
    "\n",
    "from math import log\n",
    "from math import exp\n",
    "from scipy.stats import boxcox"
   ]
  },
  {
   "cell_type": "code",
   "execution_count": 2,
   "id": "inside-preparation",
   "metadata": {},
   "outputs": [],
   "source": [
    "# split a univariate sequence into samples\n",
    "def split_sequence(sequence, n_steps_in, n_steps_out):\n",
    "\tX, y = list(), list()\n",
    "\tfor i in range(len(sequence)):\n",
    "\t\t# find the end of this pattern\n",
    "\t\tend_ix = i + n_steps_in\n",
    "\t\tout_end_ix = end_ix + n_steps_out\n",
    "\t\t# check if we are beyond the sequence\n",
    "\t\tif out_end_ix > len(sequence):\n",
    "\t\t\tbreak\n",
    "\t\t# gather input and output parts of the pattern\n",
    "\t\tseq_x, seq_y = sequence[i:end_ix], sequence[end_ix:out_end_ix]\n",
    "\t\tX.append(seq_x)\n",
    "\t\ty.append(seq_y)\n",
    "\treturn array(X), array(y)"
   ]
  },
  {
   "cell_type": "code",
   "execution_count": 3,
   "id": "applicable-romantic",
   "metadata": {},
   "outputs": [],
   "source": [
    "data = pd.read_csv(\"Timeseries_real_data_interview.csv\")\n",
    "t = data.head(16000)\n",
    "v = data.tail(4000)\n",
    "# define input sequence\n",
    "train_seq = t['Value'].values\n",
    "val_seq = v['Value'].values\n",
    "\n",
    "tr, tr_lamb = boxcox(train_seq)\n",
    "vl, vl_lamb = boxcox(val_seq)"
   ]
  },
  {
   "cell_type": "code",
   "execution_count": 4,
   "id": "adequate-asbestos",
   "metadata": {},
   "outputs": [],
   "source": [
    "# choose a number of time steps\n",
    "n_steps_in, n_steps_out = 30, 30\n",
    "# split into samples\n",
    "X_train, y_train = split_sequence(tr, n_steps_in, n_steps_out)\n",
    "X_val, y_val = split_sequence(vl, n_steps_in, n_steps_out)\n",
    "# reshape from [samples, timesteps] into [samples, timesteps, features]\n",
    "n_features = 1\n",
    "X_train = X_train.reshape((X_train.shape[0], X_train.shape[1], n_features))\n",
    "X_val = X_val.reshape((X_val.shape[0], X_val.shape[1], n_features))"
   ]
  },
  {
   "cell_type": "markdown",
   "id": "strange-quarter",
   "metadata": {},
   "source": [
    "### Hyperparameter model"
   ]
  },
  {
   "cell_type": "code",
   "execution_count": 50,
   "id": "manual-society",
   "metadata": {},
   "outputs": [],
   "source": [
    "def build_model(hp):\n",
    "    \n",
    "    #nodes = hp.Int('nodes', min_value=150, max_value=200, step=10)\n",
    "    act_func = hp.Choice('Activation Func', ['relu', 'elu', 'sigmoid', 'tanh'])\n",
    "    \n",
    "    model = Sequential()\n",
    "    model.add(Bidirectional(LSTM(180, activation=act_func), input_shape=(n_steps_in, n_features)))\n",
    "    model.add(Dropout(0.2))\n",
    "    model.add(Dense(n_steps_out))\n",
    "\n",
    "    adam = keras.optimizers.Adam(lr=0.001)\n",
    "    model.compile(optimizer=adam, loss='mse', metrics=['mae', keras.metrics.RootMeanSquaredError()])\n",
    "    return model"
   ]
  },
  {
   "cell_type": "code",
   "execution_count": 52,
   "id": "competent-sweet",
   "metadata": {},
   "outputs": [],
   "source": [
    "tuner = RandomSearch(\n",
    "    build_model,\n",
    "    objective='loss',\n",
    "    seed=1,\n",
    "    max_trials=16,\n",
    "    executions_per_trial=1,\n",
    "    directory='dir',\n",
    "    project_name='bilstm_set16')"
   ]
  },
  {
   "cell_type": "code",
   "execution_count": 53,
   "id": "genuine-there",
   "metadata": {},
   "outputs": [
    {
     "name": "stdout",
     "output_type": "stream",
     "text": [
      "Search space summary\n",
      "Default search space size: 1\n",
      "Activation Func (Choice)\n",
      "{'default': 'relu', 'conditions': [], 'values': ['relu', 'elu', 'sigmoid', 'tanh'], 'ordered': False}\n"
     ]
    }
   ],
   "source": [
    "tuner.search_space_summary()"
   ]
  },
  {
   "cell_type": "code",
   "execution_count": 54,
   "id": "exceptional-inspection",
   "metadata": {},
   "outputs": [
    {
     "name": "stdout",
     "output_type": "stream",
     "text": [
      "Trial 4 Complete [00h 08m 07s]\n",
      "loss: 7.125405311584473\n",
      "\n",
      "Best loss So Far: 7.110173225402832\n",
      "Total elapsed time: 00h 24m 47s\n",
      "INFO:tensorflow:Oracle triggered exit\n"
     ]
    }
   ],
   "source": [
    "tuner.search(X_train, y_train, epochs=10, verbose=1, validation_data=(X_val, y_val), batch_size=64)"
   ]
  },
  {
   "cell_type": "markdown",
   "id": "veterinary-working",
   "metadata": {},
   "source": [
    "<hr>"
   ]
  },
  {
   "cell_type": "markdown",
   "id": "congressional-sleep",
   "metadata": {},
   "source": [
    "# Results\n",
    "\n",
    "The tuning was performed in 2 seperate sets. The first set focused on tuning the number of filters only, followed by the tuning of activation function."
   ]
  },
  {
   "cell_type": "markdown",
   "id": "similar-length",
   "metadata": {},
   "source": [
    "<================ *Results of tuning the number of filters.* =================>\n",
    "\n",
    "*Search space* : (min_value=50, max_value=150, step=1)\n",
    "\n",
    "Choice: From the below results, the value of _**180**_ has been chosen for the number of filters in the input layer, since it has loss of 7.5352864265441895"
   ]
  },
  {
   "cell_type": "code",
   "execution_count": 49,
   "id": "ranking-pierre",
   "metadata": {},
   "outputs": [
    {
     "name": "stdout",
     "output_type": "stream",
     "text": [
      "Results summary\n",
      "Results in dir\\bilstm_set15\n",
      "Showing 10 best trials\n",
      "Objective(name='loss', direction='min')\n",
      "Trial summary\n",
      "Hyperparameters:\n",
      "nodes: 180\n",
      "Score: 7.5352864265441895\n",
      "Trial summary\n",
      "Hyperparameters:\n",
      "nodes: 200\n",
      "Score: 7.6363043785095215\n",
      "Trial summary\n",
      "Hyperparameters:\n",
      "nodes: 170\n",
      "Score: 7.727611541748047\n",
      "Trial summary\n",
      "Hyperparameters:\n",
      "nodes: 160\n",
      "Score: 7.802602767944336\n",
      "Trial summary\n",
      "Hyperparameters:\n",
      "nodes: 190\n",
      "Score: 7.886152267456055\n"
     ]
    }
   ],
   "source": [
    "tuner.results_summary()"
   ]
  },
  {
   "cell_type": "markdown",
   "id": "distant-exhibit",
   "metadata": {},
   "source": [
    "<hr>"
   ]
  },
  {
   "cell_type": "markdown",
   "id": "statewide-wages",
   "metadata": {},
   "source": [
    "<================ *Results of tuning the activation function.* =================>\n",
    "\n",
    "*Search space* : ['relu', 'elu', 'sigmoid', 'tanh']\n",
    "\n",
    "Choice: From the below results, the activation function -**elu**_ has been chosen for the number of filters in the input layer, since it has loss of 7.110173225402832"
   ]
  },
  {
   "cell_type": "code",
   "execution_count": 55,
   "id": "sticky-treasury",
   "metadata": {},
   "outputs": [
    {
     "name": "stdout",
     "output_type": "stream",
     "text": [
      "Results summary\n",
      "Results in dir\\bilstm_set16\n",
      "Showing 10 best trials\n",
      "Objective(name='loss', direction='min')\n",
      "Trial summary\n",
      "Hyperparameters:\n",
      "Activation Func: elu\n",
      "Score: 7.110173225402832\n",
      "Trial summary\n",
      "Hyperparameters:\n",
      "Activation Func: tanh\n",
      "Score: 7.125405311584473\n",
      "Trial summary\n",
      "Hyperparameters:\n",
      "Activation Func: sigmoid\n",
      "Score: 7.259542942047119\n",
      "Trial summary\n",
      "Hyperparameters:\n",
      "Activation Func: relu\n",
      "Score: 7.810673713684082\n"
     ]
    }
   ],
   "source": [
    "tuner.results_summary()"
   ]
  },
  {
   "cell_type": "code",
   "execution_count": null,
   "id": "shared-death",
   "metadata": {},
   "outputs": [],
   "source": []
  }
 ],
 "metadata": {
  "kernelspec": {
   "display_name": "Python 3",
   "language": "python",
   "name": "python3"
  },
  "language_info": {
   "codemirror_mode": {
    "name": "ipython",
    "version": 3
   },
   "file_extension": ".py",
   "mimetype": "text/x-python",
   "name": "python",
   "nbconvert_exporter": "python",
   "pygments_lexer": "ipython3",
   "version": "3.7.10"
  }
 },
 "nbformat": 4,
 "nbformat_minor": 5
}
